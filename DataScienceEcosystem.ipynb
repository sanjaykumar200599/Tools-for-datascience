{
 "cells": [
  {
   "cell_type": "markdown",
   "id": "6bb9f28f",
   "metadata": {},
   "source": [
    "# Data Science Tools and Ecosystem"
   ]
  },
  {
   "cell_type": "markdown",
   "id": "d19f1960",
   "metadata": {},
   "source": [
    "In this notebook, Data Science Tools and Ecosystem are summarized."
   ]
  },
  {
   "cell_type": "markdown",
   "id": "eb7cef57",
   "metadata": {},
   "source": [
    "Some of the popular languages that Data Scientists use are:\n",
    "\n",
    "1.Python\n",
    "\n",
    "2.SQL\n",
    "\n",
    "3.C++\n",
    "\n",
    "4.R\n",
    "\n",
    "5.Java"
   ]
  },
  {
   "cell_type": "markdown",
   "id": "4b8b47c6",
   "metadata": {},
   "source": [
    "Some of the commonly used libraries used by Data Scientists include: \n",
    "\n",
    "1.Tensorflow\n",
    "\n",
    "2.Numpy\n",
    "\n",
    "3.Scipy\n",
    "\n",
    "4.Pandas\n",
    "\n",
    "5.Matplotlib\n",
    "\n",
    "6.Keras\n",
    "\n",
    "7.Scikit-Learn\n",
    "\n",
    "8.PyTorch"
   ]
  },
  {
   "cell_type": "markdown",
   "id": "c3bb2f3e",
   "metadata": {},
   "source": [
    "|Data Science Tools|\n",
    "|---|\n",
    "|SAS|\n",
    "|Apache Hadoop|\n",
    "|TensorFlow|"
   ]
  },
  {
   "cell_type": "markdown",
   "id": "666e377d",
   "metadata": {},
   "source": [
    "### Below are a few examples of evaluating arithmetic expressions in Python."
   ]
  },
  {
   "cell_type": "code",
   "execution_count": 3,
   "id": "7a703292",
   "metadata": {},
   "outputs": [
    {
     "data": {
      "text/plain": [
       "17"
      ]
     },
     "execution_count": 3,
     "metadata": {},
     "output_type": "execute_result"
    }
   ],
   "source": [
    "#This a simple arithmetic expression to mutiply then add integers.\n",
    "(3*4)+5"
   ]
  },
  {
   "cell_type": "code",
   "execution_count": 4,
   "id": "416d9dfb",
   "metadata": {},
   "outputs": [
    {
     "data": {
      "text/plain": [
       "3.3333333333333335"
      ]
     },
     "execution_count": 4,
     "metadata": {},
     "output_type": "execute_result"
    }
   ],
   "source": [
    "#This will convert 200 minutes to hours by diving by 60.\n",
    "200/60"
   ]
  },
  {
   "cell_type": "markdown",
   "id": "b5e12f3c",
   "metadata": {},
   "source": [
    "__Objectives:__\n",
    "* List of well known data science tools.\n",
    "* How to provide comments in the cell.\n",
    "* List of popular libraries for data science.\n",
    "* List of popular languages of datascience."
   ]
  },
  {
   "cell_type": "markdown",
   "id": "36d57d2b",
   "metadata": {},
   "source": [
    "## Author"
   ]
  },
  {
   "cell_type": "markdown",
   "id": "0e23fbf1",
   "metadata": {},
   "source": [
    "N Sanjay Kumar"
   ]
  }
 ],
 "metadata": {
  "kernelspec": {
   "display_name": "Python 3 (ipykernel)",
   "language": "python",
   "name": "python3"
  },
  "language_info": {
   "codemirror_mode": {
    "name": "ipython",
    "version": 3
   },
   "file_extension": ".py",
   "mimetype": "text/x-python",
   "name": "python",
   "nbconvert_exporter": "python",
   "pygments_lexer": "ipython3",
   "version": "3.11.5"
  }
 },
 "nbformat": 4,
 "nbformat_minor": 5
}
